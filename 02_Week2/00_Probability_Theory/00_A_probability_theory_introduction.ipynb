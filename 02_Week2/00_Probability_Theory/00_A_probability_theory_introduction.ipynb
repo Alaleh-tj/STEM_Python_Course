{
 "cells": [
  {
   "cell_type": "code",
   "execution_count": null,
   "metadata": {},
   "outputs": [],
   "source": [
    "!pip install nestle corner emcee"
   ]
  },
  {
   "cell_type": "markdown",
   "metadata": {},
   "source": [
    "# Imports"
   ]
  },
  {
   "cell_type": "code",
   "execution_count": null,
   "metadata": {},
   "outputs": [],
   "source": [
    "import numpy\n",
    "import numpy as np\n",
    "import scipy\n",
    "import scipy.stats\n",
    "import pandas\n",
    "import matplotlib.pyplot as plt\n",
    "import seaborn as sns"
   ]
  },
  {
   "cell_type": "markdown",
   "metadata": {},
   "source": [
    "# Read in the data:"
   ]
  },
  {
   "cell_type": "code",
   "execution_count": null,
   "metadata": {},
   "outputs": [],
   "source": [
    "data = pandas.read_csv( \"RandomVariable_Generated_Data.dat\",sep=' ',header=0)\n",
    "print ( data )"
   ]
  },
  {
   "cell_type": "markdown",
   "metadata": {},
   "source": [
    "# Some useful helper functions:"
   ]
  },
  {
   "cell_type": "code",
   "execution_count": null,
   "metadata": {},
   "outputs": [],
   "source": [
    "def SimpleColorPlotFromFunc( \n",
    "    Func2D = None,\n",
    "    xmin = None,\n",
    "    xmax = None, \n",
    "    ymin = None,\n",
    "    ymax = None, \n",
    "    ):\n",
    "\n",
    "    #Make the list of poitns to plug in from the boundaries:\n",
    "    x = np.linspace(xmin, xmax, 100)\n",
    "    y = np.linspace(ymin, ymax, 100)\n",
    "    X, Y = np.meshgrid(x, y)\n",
    "    PointsToPlugIn = numpy.vstack([X.ravel(), Y.ravel()])\n",
    "    PointsToPlugInDataset = PointsToPlugIn.T\n",
    "\n",
    "\n",
    "    #plug in the list of points:\n",
    "    FunctionResultValuesForGrid = []\n",
    "    for Point in PointsToPlugInDataset:\n",
    "        Value = Func2D(Point)\n",
    "        FunctionResultValuesForGrid.append(Value)\n",
    "\n",
    "    #reshape stuff in a confusing way so matplotlib can think of the data like a matrix\n",
    "    Z = numpy.reshape(FunctionResultValuesForGrid, X.shape)\n",
    "\n",
    "\n",
    "    #Actually construct the figure...\n",
    "    plt.figure()\n",
    "    heatmap = plt.imshow( \n",
    "        numpy.rot90(Z), \n",
    "        extent=[xmin, xmax, ymin, ymax] ,\n",
    "        aspect = 'auto' ,\n",
    "        interpolation = None,\n",
    "        )  \n",
    "    "
   ]
  },
  {
   "cell_type": "markdown",
   "metadata": {},
   "source": [
    "# Marginal Distributions:"
   ]
  },
  {
   "cell_type": "markdown",
   "metadata": {},
   "source": [
    "### Make a histogram of the data from column A"
   ]
  },
  {
   "cell_type": "code",
   "execution_count": null,
   "metadata": {},
   "outputs": [],
   "source": [
    "Adata = data['A']\n",
    "plt.hist(Adata, density=True,bins=50,label='A')\n",
    "plt.xlabel('A')\n",
    "plt.ylabel('Number')\n",
    "plt.legend()\n",
    "plt.show()"
   ]
  },
  {
   "cell_type": "markdown",
   "metadata": {},
   "source": [
    "### Make a histogram of the data from column B"
   ]
  },
  {
   "cell_type": "code",
   "execution_count": null,
   "metadata": {},
   "outputs": [],
   "source": [
    "Bdata = data['B']\n",
    "plt.hist(Bdata, density=True,bins=50,label='B')\n",
    "plt.xlabel('B')\n",
    "plt.ylabel('Number')\n",
    "plt.legend()\n",
    "plt.show()"
   ]
  },
  {
   "cell_type": "markdown",
   "metadata": {},
   "source": [
    "### Approximate the data from column A as a univariate gaussian: (MARGINAL)"
   ]
  },
  {
   "cell_type": "code",
   "execution_count": null,
   "metadata": {},
   "outputs": [],
   "source": [
    "A_standard_deviation = numpy.std( Adata )\n",
    "A_mean = numpy.mean(Adata)\n",
    "\n",
    "ATrialPoints = numpy.linspace(-20, 20, 100)\n",
    "AValuePoints = scipy.stats.norm.pdf(ATrialPoints, loc = A_mean, scale = A_standard_deviation )\n",
    "\n",
    "plt.hist(Adata, density=True, bins=50,label='Binned A')\n",
    "plt.plot(ATrialPoints, AValuePoints,label='Gaussian A')\n",
    "plt.xlabel('A')\n",
    "plt.ylabel('Number')\n",
    "plt.legend()\n",
    "plt.show()"
   ]
  },
  {
   "cell_type": "markdown",
   "metadata": {},
   "source": [
    "### Approximate the data from column B as a univariate gaussian: (MARGINAL)"
   ]
  },
  {
   "cell_type": "code",
   "execution_count": null,
   "metadata": {},
   "outputs": [],
   "source": [
    "# STUDENTS WILL WORK ON THIS CELL\n",
    "B_standard_deviation = numpy.std( Bdata )\n",
    "B_mean = numpy.mean(Bdata)\n",
    "\n",
    "BTrialPoints = numpy.linspace(-20, 20, 100)\n",
    "BValuePoints = scipy.stats.norm.pdf(BTrialPoints, loc = B_mean, scale = B_standard_deviation )\n",
    "\n",
    "plt.hist(Bdata, density=True, bins=50,label='Binned B')\n",
    "plt.plot(BTrialPoints, BValuePoints,label='Gaussian B')\n",
    "plt.xlabel('B')\n",
    "plt.ylabel('Number')\n",
    "plt.legend()\n",
    "plt.show()"
   ]
  },
  {
   "cell_type": "markdown",
   "metadata": {},
   "source": [
    "# Conditional distributions"
   ]
  },
  {
   "cell_type": "markdown",
   "metadata": {},
   "source": [
    "### (1) Approximate the joint probability density function of A and B with a multivariate gaussian\n"
   ]
  },
  {
   "cell_type": "code",
   "execution_count": null,
   "metadata": {},
   "outputs": [],
   "source": [
    "\n",
    "ABdata = numpy.vstack( ( data['A'], data['B'] ) ).T\n",
    "print('ABdata:', ABdata)\n",
    "print('ABdata shape:', ABdata.shape)\n",
    "\n",
    "ABMean = numpy.mean( ABdata, axis = 0 )\n",
    "print ('ABdata Mean:',ABMean)\n",
    "\n",
    "ABCovarianceMatrix = numpy.cov( ABdata, rowvar = False )\n",
    "print ('ABdata Covariance Matrix:',ABCovarianceMatrix)\n",
    "\n",
    "def jointGaussian(ABpoint):\n",
    "    return scipy.stats.multivariate_normal.pdf( ABpoint, ABMean, ABCovarianceMatrix )\n",
    "\n",
    "SimpleColorPlotFromFunc(jointGaussian,np.min(Adata),np.max(Adata),np.min(Bdata),np.max(Bdata))\n",
    "plt.title(\"Probability Density of A & B\", fontsize=30)\n",
    "plt.ylabel('B',fontsize=40)\n",
    "plt.xlabel('A',fontsize=40)\n",
    "plt.draw()\n",
    "plt.show()"
   ]
  },
  {
   "cell_type": "markdown",
   "metadata": {},
   "source": [
    "### (1)  Fixing A = 0, plot the unnormalized conditional probability density of B:\n",
    "P(B|A)\n",
    "=====\n"
   ]
  },
  {
   "cell_type": "code",
   "execution_count": null,
   "metadata": {},
   "outputs": [],
   "source": [
    "def BdensityConditionalOnA0_unnormalized(Bpoint):\n",
    "    return jointGaussian( [0, Bpoint] )\n",
    "\n",
    "x_values=np.linspace(np.min(Bdata),np.max(Bdata),1000)\n",
    "y_values=[] # this will be marginal P(B|A=0)\n",
    "for x_value in x_values:\n",
    "    y_values.append(BdensityConditionalOnA0_unnormalized(x_value))\n",
    "plt.plot(x_values,y_values)\n",
    "plt.ylabel('P(B|A)')\n",
    "plt.xlabel('B')\n",
    "plt.legend()\n",
    "plt.show()"
   ]
  },
  {
   "cell_type": "markdown",
   "metadata": {},
   "source": [
    "### (1) Fixing A = 7, plot the probability density of B:\n"
   ]
  },
  {
   "cell_type": "code",
   "execution_count": null,
   "metadata": {},
   "outputs": [],
   "source": [
    "# STUDENTS WILL WORK ON THIS CELL\n",
    "\n",
    "A_fixed_values=[1,3,5,7]\n",
    "\n",
    "x_values=np.linspace(np.min(Bdata),np.max(Bdata),1000)\n",
    " # this will be marginal P(B|A=0)\n",
    "for Afixed in A_fixed_values:\n",
    "    def BdensityConditionalOnA_unormalized(Bpoint):\n",
    "        return jointGaussian( [Afixed, Bpoint] )\n",
    "    y_values=[]\n",
    "    for x_value in x_values:\n",
    "        y_values.append(BdensityConditionalOnA_unormalized(x_value))\n",
    "    plt.plot(x_values,y_values)\n",
    "\n",
    "plt.ylabel('P(B|A)')\n",
    "plt.xlabel('B')\n",
    "plt.legend()\n",
    "plt.show()\n"
   ]
  },
  {
   "cell_type": "markdown",
   "metadata": {},
   "source": [
    "### (1) Fixing B = 0 plot the unnormalized probability density of A:\n"
   ]
  },
  {
   "cell_type": "code",
   "execution_count": null,
   "metadata": {},
   "outputs": [],
   "source": [
    "def AdensityConditionalOnB0_unnormalized(Apoint):\n",
    "    return jointGaussian( [Apoint, 0] )\n",
    "\n",
    "x_values=np.linspace(np.min(Adata),np.max(Adata),1000)\n",
    "y_values=[] # this will be marginal P(B|A=0)\n",
    "for x_value in x_values:\n",
    "    y_values.append(AdensityConditionalOnB0_unnormalized(x_value))\n",
    "plt.plot(x_values,y_values)\n",
    "\n",
    "plt.ylabel('P(A|B)')\n",
    "plt.xlabel('A')\n",
    "plt.legend()\n",
    "plt.show()\n"
   ]
  },
  {
   "cell_type": "markdown",
   "metadata": {},
   "source": [
    "### (1) Fixing B = 7, plot the unnormalized probability density of A:\n"
   ]
  },
  {
   "cell_type": "code",
   "execution_count": null,
   "metadata": {},
   "outputs": [],
   "source": [
    "def AdensityConditionalOnB7_unnormalized(Apoint):\n",
    "    return jointGaussian( [Apoint, 7] )\n",
    "\n",
    "x_values=np.linspace(np.min(Adata),np.max(Adata),1000)\n",
    "y_values=[] # this will be marginal P(B|A=0)\n",
    "for x_value in x_values:\n",
    "    y_values.append(AdensityConditionalOnB7_unnormalized(x_value))\n",
    "plt.plot(x_values,y_values)\n",
    "\n",
    "\n",
    "plt.ylabel('P(A|B)')\n",
    "plt.xlabel('A')\n",
    "plt.legend()\n",
    "plt.show()"
   ]
  },
  {
   "cell_type": "code",
   "execution_count": null,
   "metadata": {},
   "outputs": [],
   "source": []
  }
 ],
 "metadata": {
  "kernelspec": {
   "display_name": "Python 3",
   "language": "python",
   "name": "python3"
  },
  "language_info": {
   "codemirror_mode": {
    "name": "ipython",
    "version": 3
   },
   "file_extension": ".py",
   "mimetype": "text/x-python",
   "name": "python",
   "nbconvert_exporter": "python",
   "pygments_lexer": "ipython3",
   "version": "3.6.8"
  }
 },
 "nbformat": 4,
 "nbformat_minor": 2
}
