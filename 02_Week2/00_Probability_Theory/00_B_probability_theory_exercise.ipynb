{
 "cells": [
  {
   "cell_type": "code",
   "execution_count": null,
   "metadata": {},
   "outputs": [],
   "source": [
    "import warnings\n",
    "import numpy\n",
    "import numpy as np\n",
    "import scipy\n",
    "import scipy.stats\n",
    "import pandas\n",
    "import matplotlib.pyplot as plt"
   ]
  },
  {
   "cell_type": "code",
   "execution_count": null,
   "metadata": {},
   "outputs": [],
   "source": [
    "def SimpleColorPlotFromFunc( \n",
    "    Func2D = None,\n",
    "    xmin = None,\n",
    "    xmax = None, \n",
    "    ymin = None,\n",
    "    ymax = None, \n",
    "    ):\n",
    "\n",
    "    #Make the list of poitns to plug in from the boundaries:\n",
    "    x = np.linspace(xmin, xmax, 100)\n",
    "    y = np.linspace(ymin, ymax, 100)\n",
    "    X, Y = np.meshgrid(x, y)\n",
    "    PointsToPlugIn = numpy.vstack([X.ravel(), Y.ravel()])\n",
    "    PointsToPlugInDataset = PointsToPlugIn.T\n",
    "\n",
    "\n",
    "    #plug in the list of points:\n",
    "    FunctionResultValuesForGrid = []\n",
    "    for Point in PointsToPlugInDataset:\n",
    "        Value = Func2D(Point)\n",
    "        FunctionResultValuesForGrid.append(Value)\n",
    "\n",
    "    #reshape stuff in a confusing way so matplotlib can think of the data like a matrix\n",
    "    Z = numpy.reshape(FunctionResultValuesForGrid, X.shape).T\n",
    "\n",
    "\n",
    "    #Actually construct the figure...\n",
    "    plt.figure()\n",
    "    heatmap = plt.imshow( \n",
    "        numpy.rot90(Z), \n",
    "        extent=[xmin, xmax, ymin, ymax] ,\n",
    "        aspect = 'auto' ,\n",
    "        interpolation = None,\n",
    "        )  \n",
    "    "
   ]
  },
  {
   "cell_type": "code",
   "execution_count": null,
   "metadata": {},
   "outputs": [],
   "source": [
    "Gaussian1Mean = [1,1]\n",
    "Gaussian2Mean = [2,4]\n",
    "\n",
    "Gaussian1Covariance = numpy.identity(2)*1\n",
    "Gaussian2Covariance = numpy.identity(2)*1\n",
    "\n",
    "\n",
    "def Gaussian1(ABpoint):\n",
    "    return scipy.stats.multivariate_normal.pdf( ABpoint, mean = Gaussian1Mean, \n",
    "                                               cov = Gaussian1Covariance )\n",
    "\n",
    "def Gaussian2(ABpoint):\n",
    "    return scipy.stats.multivariate_normal.pdf( ABpoint, mean = Gaussian2Mean, \n",
    "                                               cov = Gaussian2Covariance )\n",
    "\n",
    "def GaussianMultiModal(ABpoint):\n",
    "    return Gaussian1(ABpoint) + Gaussian2(ABpoint)\n",
    "\n",
    "SimpleColorPlotFromFunc( \n",
    "    Func2D = GaussianMultiModal,\n",
    "    xmin = -1,\n",
    "    xmax = 5, \n",
    "    ymin = -1,\n",
    "    ymax = 5, \n",
    "    )\n",
    "plt.title(\"Probability Density of A & B\", fontsize=30)\n",
    "plt.ylabel('B',fontsize=40)\n",
    "plt.xlabel('A',fontsize=40)"
   ]
  },
  {
   "cell_type": "markdown",
   "metadata": {},
   "source": [
    "## Assume that the samples generated below are representative of the distribution"
   ]
  },
  {
   "cell_type": "code",
   "execution_count": null,
   "metadata": {},
   "outputs": [],
   "source": [
    "DataSamples1 = np.random.multivariate_normal(Gaussian1Mean,Gaussian1Covariance,size=10000)\n",
    "DataSamples2 = np.random.multivariate_normal(Gaussian2Mean,Gaussian2Covariance,size=10000)\n",
    "\n",
    "CombinedSamples = np.vstack([DataSamples1,DataSamples2])\n",
    "np.random.shuffle(CombinedSamples)\n",
    "_=plt.hist2d(CombinedSamples[:,0],CombinedSamples[:,1],bins=20)\n",
    "\n",
    "Adata = CombinedSamples[:,0]\n",
    "Bdata = CombinedSamples[:,1]"
   ]
  },
  {
   "cell_type": "markdown",
   "metadata": {},
   "source": [
    "# Find & plot the conditional probability P(B | A = 1,1.5,2)\n",
    "Using the probability theory reference notebook, find and plot each conditional probability of A, given B=1, then 1.5, then 2. "
   ]
  },
  {
   "cell_type": "code",
   "execution_count": null,
   "metadata": {},
   "outputs": [],
   "source": []
  },
  {
   "cell_type": "markdown",
   "metadata": {},
   "source": [
    "# Find & plot the marginal probability of A\n",
    "Using the samples provided above (`CombinedSamples`), find and plot a histogram showing the marginal probability of A. Then add a best-fit Gaussian on top of your histogram."
   ]
  },
  {
   "cell_type": "code",
   "execution_count": null,
   "metadata": {},
   "outputs": [],
   "source": []
  },
  {
   "cell_type": "markdown",
   "metadata": {},
   "source": [
    "# Find & plot the marginal probability of B\n",
    "Using the samples provided above (`CombinedSamples`), find and plot a histogram showing the marginal probability of A. Then add a best-fit Gaussian on top of your histogram."
   ]
  },
  {
   "cell_type": "code",
   "execution_count": null,
   "metadata": {},
   "outputs": [],
   "source": []
  },
  {
   "cell_type": "code",
   "execution_count": null,
   "metadata": {},
   "outputs": [],
   "source": []
  }
 ],
 "metadata": {
  "kernelspec": {
   "display_name": "Python 3",
   "language": "python",
   "name": "python3"
  },
  "language_info": {
   "codemirror_mode": {
    "name": "ipython",
    "version": 3
   },
   "file_extension": ".py",
   "mimetype": "text/x-python",
   "name": "python",
   "nbconvert_exporter": "python",
   "pygments_lexer": "ipython3",
   "version": "3.6.8"
  }
 },
 "nbformat": 4,
 "nbformat_minor": 2
}
